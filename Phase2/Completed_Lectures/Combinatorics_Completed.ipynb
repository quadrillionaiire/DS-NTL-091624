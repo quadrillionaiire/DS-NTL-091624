{
 "cells": [
  {
   "cell_type": "markdown",
   "metadata": {},
   "source": [
    "# Combinatorics\n",
    "\n",
    "Let's briefly talk about how you can take elements from different collections and group them.\n",
    "\n",
    "### Combinatorics Definition\n",
    "\n",
    "> Combinatorics is the branch of mathematics that deals with the relations characterizing sets, subsets, lists, and multisets.\n",
    ">\n",
    "> Sometimes combinatorics is said to be the branch of math that deals with counting; and that’s true, but not in the sense in which you learned to count in kindergarten. Though combinatorics deals with numbering and finding out how many members are in sets, it’s designed to find ways of doing that **without actual, potentially tedious, counting** involved.\n",
    "\n",
    "-- [Statistics How To](https://www.statisticshowto.com/probability-and-statistics/combinatorics/)\n",
    "\n",
    "### What's the difference between a permutation and a combination?\n",
    "\n",
    "In a **permutation**, order matters. If you have a race, it matters who arrives in first, or second, or third place - there's a difference in the ordering of the group!\n",
    "\n",
    "> The number of **permutations** of **n** objects taken **r** at a time is given by the formula:\n",
    ">\n",
    "> $$\\large P(n,r) = \\frac{n!}{(n - r)!}$$\n",
    "\n",
    "In a **combination**, you only care about which items are members of the set. For example, if you're creating groups of students to work on a project, the order in which you add their names to the group doesn't really matter - it's the group members itself, not any order, that you care about.\n",
    "\n",
    "> The number of **combinations** of **n** objects taken **r** at a time is given by the formula:\n",
    ">\n",
    "> $$\\large C(n,r) = \\frac{n!}{r!(n - r)!}$$\n",
    "\n",
    "Main things to ask when dealing with combinations or permutations:\n",
    "- Does order matter? \n",
    "- With or without replacement? (aka does the first choice then restrict the second choice?)\n",
    "\n",
    "### Q: How many possible orders are there for first/second/third place in a race with 30 contestants?"
   ]
  },
  {
   "cell_type": "code",
   "execution_count": 2,
   "metadata": {},
   "outputs": [
    {
     "data": {
      "text/plain": [
       "6"
      ]
     },
     "execution_count": 2,
     "metadata": {},
     "output_type": "execute_result"
    }
   ],
   "source": [
    "3 * 2 * 1"
   ]
  },
  {
   "cell_type": "code",
   "execution_count": 3,
   "metadata": {},
   "outputs": [
    {
     "data": {
      "text/plain": [
       "6"
      ]
     },
     "execution_count": 3,
     "metadata": {},
     "output_type": "execute_result"
    }
   ],
   "source": [
    "import math\n",
    "math.factorial(3)"
   ]
  },
  {
   "cell_type": "code",
   "execution_count": 4,
   "metadata": {},
   "outputs": [
    {
     "data": {
      "text/plain": [
       "(24360.0, 24360)"
      ]
     },
     "execution_count": 4,
     "metadata": {},
     "output_type": "execute_result"
    }
   ],
   "source": [
    "# Can use math:\n",
    "import math\n",
    "\n",
    "method_1 = math.factorial(30) / math.factorial(30-3)\n",
    "method_1_1 = math.perm(30, 3)\n",
    "\n",
    "method_1, method_1_1"
   ]
  },
  {
   "cell_type": "code",
   "execution_count": 6,
   "metadata": {},
   "outputs": [
    {
     "data": {
      "text/plain": [
       "[1,\n",
       " 2,\n",
       " 3,\n",
       " 4,\n",
       " 5,\n",
       " 6,\n",
       " 7,\n",
       " 8,\n",
       " 9,\n",
       " 10,\n",
       " 11,\n",
       " 12,\n",
       " 13,\n",
       " 14,\n",
       " 15,\n",
       " 16,\n",
       " 17,\n",
       " 18,\n",
       " 19,\n",
       " 20,\n",
       " 21,\n",
       " 22,\n",
       " 23,\n",
       " 24,\n",
       " 25,\n",
       " 26,\n",
       " 27,\n",
       " 28,\n",
       " 29,\n",
       " 30]"
      ]
     },
     "execution_count": 6,
     "metadata": {},
     "output_type": "execute_result"
    }
   ],
   "source": [
    "list(range(1,31))"
   ]
  },
  {
   "cell_type": "code",
   "execution_count": 10,
   "metadata": {},
   "outputs": [
    {
     "data": {
      "text/plain": [
       "24360"
      ]
     },
     "execution_count": 10,
     "metadata": {},
     "output_type": "execute_result"
    }
   ],
   "source": [
    "# Also the python library itertools has combination and permutations!\n",
    "import itertools\n",
    "\n",
    "method_2 = itertools.permutations(range(1,31), 3)\n",
    "len(list(method_2))"
   ]
  },
  {
   "cell_type": "markdown",
   "metadata": {},
   "source": [
    "#### Can you spot the difference b/t methods?\n",
    "- itertools needs the collection object, and will return all the possible options"
   ]
  },
  {
   "cell_type": "markdown",
   "metadata": {},
   "source": [
    "### Q: How many possible codes are there for a standard padlock?\n",
    "\n",
    "> Hint: (there are 40 numbers on a padlock and use 3 numbers - **with replacement**)"
   ]
  },
  {
   "cell_type": "code",
   "execution_count": 12,
   "metadata": {},
   "outputs": [
    {
     "data": {
      "text/plain": [
       "64000"
      ]
     },
     "execution_count": 12,
     "metadata": {},
     "output_type": "execute_result"
    }
   ],
   "source": [
    "# Can't use .perm or .permutatuion, because functions, don't allow for replacement (alas) we have itertool.product\n",
    "num = list(range(1,41))\n",
    "perm_list = list(itertools.product(num, repeat=3))\n",
    "len(perm_list)"
   ]
  },
  {
   "cell_type": "code",
   "execution_count": 13,
   "metadata": {},
   "outputs": [
    {
     "data": {
      "text/plain": [
       "64000"
      ]
     },
     "execution_count": 13,
     "metadata": {},
     "output_type": "execute_result"
    }
   ],
   "source": [
    "40 * 40 * 40"
   ]
  },
  {
   "cell_type": "code",
   "execution_count": 14,
   "metadata": {},
   "outputs": [
    {
     "data": {
      "text/plain": [
       "64000"
      ]
     },
     "execution_count": 14,
     "metadata": {},
     "output_type": "execute_result"
    }
   ],
   "source": [
    "40 ** 3"
   ]
  },
  {
   "cell_type": "markdown",
   "metadata": {},
   "source": [
    "For the first number: 40 choices. For the second number, still 40 choices: $40\\cdot40=40^2$. Again, for 3rd number, still 40 choices: $40\\cdot40\\cdot40=40^3$"
   ]
  },
  {
   "cell_type": "markdown",
   "metadata": {},
   "source": [
    "### Q: How many unique 3 topping pizzas can you make from the following 8 ingredients:\n",
    "\n",
    "- Mushrooms\n",
    "- Pepperoni\n",
    "- Onion\n",
    "- Peppers\n",
    "- Ham\n",
    "- Pineapple\n",
    "- Sausage\n",
    "- Olives\n",
    "    \n",
    "> Side note: which is the worst?"
   ]
  },
  {
   "cell_type": "code",
   "execution_count": 15,
   "metadata": {},
   "outputs": [
    {
     "data": {
      "text/plain": [
       "56"
      ]
     },
     "execution_count": 15,
     "metadata": {},
     "output_type": "execute_result"
    }
   ],
   "source": [
    "# Using math\n",
    "\n",
    "three_top_pizzas = math.comb(8, 3)\n",
    "three_top_pizzas"
   ]
  },
  {
   "cell_type": "code",
   "execution_count": 16,
   "metadata": {},
   "outputs": [
    {
     "data": {
      "text/plain": [
       "56"
      ]
     },
     "execution_count": 16,
     "metadata": {},
     "output_type": "execute_result"
    }
   ],
   "source": [
    "# Our list of toppings\n",
    "toppings = [\"Mushrooms\", \"Pepperoni\", \"Onion\", \"Peppers\", \n",
    "            \"Ham\", \"Pineapple\", \"Sausage\", \"Olives\"]\n",
    "\n",
    "# Using itertools\n",
    "three_topping_pizzas = list(itertools.combinations(toppings, 3))\n",
    "len(three_topping_pizzas)"
   ]
  },
  {
   "cell_type": "code",
   "execution_count": 17,
   "metadata": {},
   "outputs": [
    {
     "data": {
      "text/plain": [
       "120"
      ]
     },
     "execution_count": 17,
     "metadata": {},
     "output_type": "execute_result"
    }
   ],
   "source": [
    "three_topping_pizzas = list(itertools.combinations_with_replacement(toppings, 3))\n",
    "len(three_topping_pizzas)"
   ]
  }
 ],
 "metadata": {
  "kernelspec": {
   "display_name": "Cohort_Env",
   "language": "python",
   "name": "python3"
  },
  "language_info": {
   "codemirror_mode": {
    "name": "ipython",
    "version": 3
   },
   "file_extension": ".py",
   "mimetype": "text/x-python",
   "name": "python",
   "nbconvert_exporter": "python",
   "pygments_lexer": "ipython3",
   "version": "3.12.5"
  }
 },
 "nbformat": 4,
 "nbformat_minor": 2
}
